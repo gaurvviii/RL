{
  "nbformat": 4,
  "nbformat_minor": 0,
  "metadata": {
    "colab": {
      "provenance": [],
      "authorship_tag": "ABX9TyM+qH/DkcsgqrNHiqjJMGWJ",
      "include_colab_link": true
    },
    "kernelspec": {
      "name": "python3",
      "display_name": "Python 3"
    },
    "language_info": {
      "name": "python"
    }
  },
  "cells": [
    {
      "cell_type": "markdown",
      "metadata": {
        "id": "view-in-github",
        "colab_type": "text"
      },
      "source": [
        "<a href=\"https://colab.research.google.com/github/gaurvviii/RL/blob/main/exp7.ipynb\" target=\"_parent\"><img src=\"https://colab.research.google.com/assets/colab-badge.svg\" alt=\"Open In Colab\"/></a>"
      ]
    },
    {
      "cell_type": "code",
      "execution_count": 9,
      "metadata": {
        "colab": {
          "base_uri": "https://localhost:8080/",
          "height": 246
        },
        "id": "PIzWsGZ3brGS",
        "outputId": "15e8a492-e459-457f-f581-775553ff1a11"
      },
      "outputs": [
        {
          "output_type": "error",
          "ename": "NameError",
          "evalue": "ignored",
          "traceback": [
            "\u001b[0;31m---------------------------------------------------------------------------\u001b[0m",
            "\u001b[0;31mNameError\u001b[0m                                 Traceback (most recent call last)",
            "\u001b[0;32m<ipython-input-9-b2b9f777ebc3>\u001b[0m in \u001b[0;36m<cell line: 51>\u001b[0;34m()\u001b[0m\n\u001b[1;32m     49\u001b[0m \u001b[0;34m\u001b[0m\u001b[0m\n\u001b[1;32m     50\u001b[0m \u001b[0;31m# Call the policy iteration function\u001b[0m\u001b[0;34m\u001b[0m\u001b[0;34m\u001b[0m\u001b[0m\n\u001b[0;32m---> 51\u001b[0;31m \u001b[0moptimal_policy\u001b[0m \u001b[0;34m=\u001b[0m \u001b[0mpolicy_iteration\u001b[0m\u001b[0;34m(\u001b[0m\u001b[0mpolicy\u001b[0m\u001b[0;34m,\u001b[0m \u001b[0mnum_states\u001b[0m\u001b[0;34m,\u001b[0m \u001b[0mnum_actions\u001b[0m\u001b[0;34m,\u001b[0m \u001b[0mtransition_probs\u001b[0m\u001b[0;34m,\u001b[0m \u001b[0mrewards\u001b[0m\u001b[0;34m,\u001b[0m \u001b[0mgamma\u001b[0m\u001b[0;34m)\u001b[0m\u001b[0;34m\u001b[0m\u001b[0;34m\u001b[0m\u001b[0m\n\u001b[0m\u001b[1;32m     52\u001b[0m \u001b[0;34m\u001b[0m\u001b[0m\n\u001b[1;32m     53\u001b[0m \u001b[0;31m# Print the optimal policy\u001b[0m\u001b[0;34m\u001b[0m\u001b[0;34m\u001b[0m\u001b[0m\n",
            "\u001b[0;31mNameError\u001b[0m: name 'rewards' is not defined"
          ]
        }
      ],
      "source": [
        "import numpy as np\n",
        "\n",
        "# Define the MDP, including the state space, action space, transition probabilities, rewards, and discount factor.\n",
        "# You can define your own MDP here.\n",
        "\n",
        "# Initialize a random policy (e.g., a stochastic policy)\n",
        "num_states = 4  # Number of states\n",
        "num_actions = 2  # Number of actions\n",
        "policy = np.random.randint(0, num_actions, size=num_states)  # Random initial policy\n",
        "def transition_probs():\n",
        "\n",
        "\n",
        "\n",
        "\n",
        "    gamma = 0.9\n",
        "\n",
        "# Policy Iteration Algorithm\n",
        "def policy_iteration(policy, num_states, num_actions, transition_probs, rewards, gamma, max_iterations=1000):\n",
        "    for _ in range(max_iterations):\n",
        "        # Policy Evaluation Step\n",
        "        while True:\n",
        "            delta = 0\n",
        "            for state in range(num_states):\n",
        "                v = 0\n",
        "                for action in range(num_actions):\n",
        "                    for next_state in range(num_states):\n",
        "                        v += policy[state] * transition_probs[state, action, next_state] * (rewards[state, action, next_state] + gamma * v)\n",
        "                delta = max(delta, abs(v - values[state]))\n",
        "                values[state] = v\n",
        "            if delta < 1e-6:\n",
        "                break\n",
        "\n",
        "        # Policy Improvement Step\n",
        "\n",
        "        policy_stable = True\n",
        "        for state in range(num_states):\n",
        "            old_action = policy[state]\n",
        "            action_values = np.zeros(num_actions)\n",
        "            for action in range(num_actions):\n",
        "                for next_state in range(num_states):\n",
        "                    action_values[action] += transition_probs[state, action, next_state] * (rewards[state, action, next_state] + gamma * values[next_state])\n",
        "            policy[state] = np.argmax(action_values)\n",
        "            if old_action != policy[state]:\n",
        "                policy_stable = False\n",
        "        if policy_stable:\n",
        "            break\n",
        "\n",
        "    return policy\n",
        "\n",
        "# Call the policy iteration function\n",
        "optimal_policy = policy_iteration(policy, num_states, num_actions, transition_probs, rewards, gamma)\n",
        "\n",
        "# Print the optimal policy\n",
        "print(\"Optimal Policy:\", optimal_policy)\n"
      ]
    },
    {
      "cell_type": "code",
      "source": [
        "import numpy as np\n",
        "\n",
        "# Define the MDP parameters for a 2x2 grid world with 4 actions (up, down, left, right)\n",
        "\n",
        "num_states = 4\n",
        "num_actions = 4\n",
        "\n",
        "# Transition probabilities: transition_probs[state, action, next_state]\n",
        "# Example: If you move up (action 0) from state 0 (bottom-left), you have a 0.8 chance of staying in the same state (state 0) and a 0.2 chance of moving to state 1 (top-left).\n",
        "transition_probs = np.array([\n",
        "    [[0.8, 0.1, 0.0, 0.1], [0.1, 0.8, 0.1, 0.0], [0.0, 0.1, 0.8, 0.1], [0.1, 0.0, 0.1, 0.8]],\n",
        "    [[0.8, 0.1, 0.0, 0.1], [0.1, 0.8, 0.1, 0.0], [0.0, 0.1, 0.8, 0.1], [0.1, 0.0, 0.1, 0.8]],\n",
        "    [[0.8, 0.1, 0.0, 0.1], [0.1, 0.8, 0.1, 0.0], [0.0, 0.1, 0.8, 0.1], [0.1, 0.0, 0.1, 0.8]],\n",
        "    [[0.8, 0.1, 0.0, 0.1], [0.1, 0.8, 0.1, 0.0], [0.0, 0.1, 0.8, 0.1], [0.1, 0.0, 0.1, 0.8]]\n",
        "])\n",
        "\n",
        "# Rewards: rewards[state, action, next_state]\n",
        "# Example: If you move up (action 0) from state 0 to state 0, you receive a reward of -1.\n",
        "rewards = np.array([\n",
        "    [[-1, -1, -1, -1], [-1, -1, -1, -1], [-1, -1, -1, -1], [-1, -1, -1, -1]],\n",
        "    [[-1, -1, -1, -1], [-1, -1, -1, -1], [-1, -1, -1, -1], [-1, -1, -1, -1]],\n",
        "    [[-1, -1, -1, -1], [-1, -1, -1, -1], [-1, -1, -1, -1], [-1, -1, -1, -1]],\n",
        "    [[-1, -1, -1, -1], [-1, -1, -1, -1], [-1, -1, -1, -1], [-1, -1, -1, -1]]\n",
        "])\n",
        "\n",
        "# Initialize a random policy\n",
        "policy = np.random.randint(0, num_actions, size=num_states)\n",
        "\n",
        "# Set the discount factor (gamma)\n",
        "gamma = 0.9\n",
        "\n",
        "# Policy Iteration Algorithm\n",
        "def policy_iteration(policy, num_states, num_actions, transition_probs, rewards, gamma, max_iterations=1000):\n",
        "    for _ in range(max_iterations):\n",
        "        # Policy Evaluation Step\n",
        "        while True:\n",
        "            delta = 0\n",
        "            for state in range(num_states):\n",
        "                v = 0\n",
        "                for action in range(num_actions):\n",
        "                    for next_state in range(num_states):\n",
        "                        v += transition_probs[state, action, next_state] * (rewards[state, action, next_state] + gamma * values[next_state])\n",
        "                delta = max(delta, abs(v - values[state]))\n",
        "                values[state] = v\n",
        "            if delta < 1e-6:\n",
        "                break\n",
        "\n",
        "        # Policy Improvement Step\n",
        "        policy_stable = True\n",
        "        for state in range(num_states):\n",
        "            old_action = policy[state]\n",
        "            action_values = np.zeros(num_actions)\n",
        "            for action in range(num_actions):\n",
        "                for next_state in range(num_states):\n",
        "                    action_values[action] += transition_probs[state, action, next_state] * (rewards[state, action, next_state] + gamma * values[next_state])\n",
        "            policy[state] = np.argmax(action_values)\n",
        "            if old_action != policy[state]:\n",
        "                policy_stable = False\n",
        "        if policy_stable:\n",
        "            break\n",
        "\n",
        "    return policy\n",
        "\n",
        "# Initialize state values to zeros\n",
        "values = np.zeros(num_states)\n",
        "\n",
        "# Call the policy iteration function\n",
        "optimal_policy = policy_iteration(policy, num_states, num_actions, transition_probs, rewards, gamma)\n",
        "\n",
        "# Print the optimal policy\n",
        "print(\"Optimal Policy:\", optimal_policy)\n"
      ],
      "metadata": {
        "colab": {
          "base_uri": "https://localhost:8080/"
        },
        "id": "YUIvs7OVdtVC",
        "outputId": "7bc8e390-f7f7-4692-d102-344e01b5fde7"
      },
      "execution_count": 10,
      "outputs": [
        {
          "output_type": "stream",
          "name": "stdout",
          "text": [
            "Optimal Policy: [0 0 0 0]\n"
          ]
        },
        {
          "output_type": "stream",
          "name": "stderr",
          "text": [
            "<ipython-input-10-eef86190ea0b>:42: RuntimeWarning: overflow encountered in double_scalars\n",
            "  v += transition_probs[state, action, next_state] * (rewards[state, action, next_state] + gamma * values[next_state])\n",
            "<ipython-input-10-eef86190ea0b>:42: RuntimeWarning: invalid value encountered in double_scalars\n",
            "  v += transition_probs[state, action, next_state] * (rewards[state, action, next_state] + gamma * values[next_state])\n"
          ]
        }
      ]
    }
  ]
}